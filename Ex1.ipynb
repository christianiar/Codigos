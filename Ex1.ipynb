{
 "cells": [
  {
   "cell_type": "markdown",
   "metadata": {},
   "source": [
    "<img src=\"http://www.exalumnos.usm.cl/wp-content/uploads/2015/06/MARCA-Color.jpg\" title=\"Title text\" width=\"50%\" height=\"50%\" />\n",
    "\n",
    "\n",
    "<hr style=\"height:2px;border:none\"/>\n",
    "<h1 align='center'> INF-395/477 Redes Neuronales Artificiales II-2018 </h1>\n",
    "\n",
    "<H3 align='center'> Tarea 2 - Redes Convolucionales y sus aplicaciones </H3>\n",
    "<hr style=\"height:2px;border:none\"/>\n",
    "\n",
    "### Pregunta 2. Transfer Learning.\n",
    "\n",
    "Integrantes:\n",
    "\n",
    "- Christian Da Rocha, ROL: 2018.90.251-9\n",
    "- Rodrigo Hermosilla, ROL: 95.74.144-4\n",
    "\n",
    "\n",
    "##### Carga inicial de librerias\n",
    "> En la siguiente sección y de manera previa se cargan todas las librerías necesarias para el ejercicio. Para efectos de mantener cierto orden con el código de las preguntas del ejercicio, se determino que todas las cargas se realizaran previamente, no obstante, se entiende que esto podría generar alguna ineficiencia en el consumo de recursos, pero que suponemos es marginal."
   ]
  },
  {
   "cell_type": "code",
   "execution_count": 1,
   "metadata": {},
   "outputs": [
    {
     "name": "stderr",
     "output_type": "stream",
     "text": [
      "Using TensorFlow backend.\n"
     ]
    }
   ],
   "source": [
    "import numpy as np\n",
    "import pandas as pd\n",
    "from keras.preprocessing import sequence\n",
    "from keras.utils import to_categorical\n",
    "from keras.models import Sequential\n",
    "from keras.layers import LSTM, Embedding, Dense, Dropout, Bidirectional, CuDNNGRU, GRU\n",
    "from sklearn.metrics import f1_score\n",
    "from heapq import nlargest\n",
    "import matplotlib.pyplot as plt\n",
    "from sklearn.model_selection import train_test_split\n",
    "import keras\n",
    "from sklearn.metrics import classification as classification_metrics\n",
    "import sklearn.datasets\n",
    "from sklearn.preprocessing import MultiLabelBinarizer, OneHotEncoder\n",
    "import random,sys\n",
    "from keras.callbacks import LambdaCallback\n",
    "import itertools"
   ]
  },
  {
   "cell_type": "markdown",
   "metadata": {},
   "source": [
    "##### Pregunta A.\n",
    "\n",
    "<div class=\"alert alert-block alert-success\">\n",
    "    <b>Nota: </b>Para efectos de mejorar la modularización, el ejercicio construye una serie de funciones, permitiendo además su reutilización en distintos instantes.\n",
    "</div>"
   ]
  },
  {
   "cell_type": "code",
   "execution_count": 2,
   "metadata": {},
   "outputs": [
    {
     "name": "stderr",
     "output_type": "stream",
     "text": [
      "b'Skipping line 281837: expected 25 fields, saw 34\\n'\n"
     ]
    },
    {
     "data": {
      "text/html": [
       "<div>\n",
       "<style scoped>\n",
       "    .dataframe tbody tr th:only-of-type {\n",
       "        vertical-align: middle;\n",
       "    }\n",
       "\n",
       "    .dataframe tbody tr th {\n",
       "        vertical-align: top;\n",
       "    }\n",
       "\n",
       "    .dataframe thead th {\n",
       "        text-align: right;\n",
       "    }\n",
       "</style>\n",
       "<table border=\"1\" class=\"dataframe\">\n",
       "  <thead>\n",
       "    <tr style=\"text-align: right;\">\n",
       "      <th></th>\n",
       "      <th>lemma</th>\n",
       "      <th>word</th>\n",
       "      <th>pos</th>\n",
       "      <th>tag</th>\n",
       "      <th>prev-iob</th>\n",
       "    </tr>\n",
       "  </thead>\n",
       "  <tbody>\n",
       "    <tr>\n",
       "      <th>0</th>\n",
       "      <td>thousand</td>\n",
       "      <td>Thousands</td>\n",
       "      <td>NNS</td>\n",
       "      <td>O</td>\n",
       "      <td>__START1__</td>\n",
       "    </tr>\n",
       "    <tr>\n",
       "      <th>1</th>\n",
       "      <td>of</td>\n",
       "      <td>of</td>\n",
       "      <td>IN</td>\n",
       "      <td>O</td>\n",
       "      <td>O</td>\n",
       "    </tr>\n",
       "    <tr>\n",
       "      <th>2</th>\n",
       "      <td>demonstr</td>\n",
       "      <td>demonstrators</td>\n",
       "      <td>NNS</td>\n",
       "      <td>O</td>\n",
       "      <td>O</td>\n",
       "    </tr>\n",
       "    <tr>\n",
       "      <th>3</th>\n",
       "      <td>have</td>\n",
       "      <td>have</td>\n",
       "      <td>VBP</td>\n",
       "      <td>O</td>\n",
       "      <td>O</td>\n",
       "    </tr>\n",
       "    <tr>\n",
       "      <th>4</th>\n",
       "      <td>march</td>\n",
       "      <td>marched</td>\n",
       "      <td>VBN</td>\n",
       "      <td>O</td>\n",
       "      <td>O</td>\n",
       "    </tr>\n",
       "  </tbody>\n",
       "</table>\n",
       "</div>"
      ],
      "text/plain": [
       "      lemma           word  pos tag    prev-iob\n",
       "0  thousand      Thousands  NNS   O  __START1__\n",
       "1        of             of   IN   O           O\n",
       "2  demonstr  demonstrators  NNS   O           O\n",
       "3      have           have  VBP   O           O\n",
       "4     march        marched  VBN   O           O"
      ]
     },
     "execution_count": 2,
     "metadata": {},
     "output_type": "execute_result"
    }
   ],
   "source": [
    "df_ner = pd.read_csv(\"ner.csv\", encoding =\"cp1252\", error_bad_lines=False)\n",
    "df_ner.dropna(inplace=True)\n",
    "dataset = df_ner.loc[:,[\"lemma\",\"word\",\"pos\",\"tag\",\"prev-iob\"]]\n",
    "dataset.head()"
   ]
  },
  {
   "cell_type": "code",
   "execution_count": 3,
   "metadata": {},
   "outputs": [
    {
     "name": "stdout",
     "output_type": "stream",
     "text": [
      "lemma         thousand\n",
      "word         Thousands\n",
      "pos                NNS\n",
      "tag                  O\n",
      "prev-iob    __START1__\n",
      "Name: 0, dtype: object \n",
      "\n",
      " lemma         kill\n",
      "word        killed\n",
      "pos            VBN\n",
      "tag              O\n",
      "prev-iob         O\n",
      "Name: 27, dtype: object \n",
      "\n",
      " lemma         explod\n",
      "word        exploded\n",
      "pos              VBD\n",
      "tag                O\n",
      "prev-iob           O\n",
      "Name: 1050783, dtype: object\n"
     ]
    }
   ],
   "source": [
    "print(dataset.loc[0],\"\\n\\n\",dataset.loc[27],\"\\n\\n\",dataset.loc[1050783])"
   ]
  },
  {
   "cell_type": "code",
   "execution_count": 4,
   "metadata": {},
   "outputs": [],
   "source": [
    "def dataCreater():\n",
    "    dataX,dataY = [],[]\n",
    "    lemmas,labels = set(), set()\n",
    "    sentence= []\n",
    "    labels_sentence = []\n",
    "    for fila in dataset.values:\n",
    "        if fila[-1]==\"__START1__\": \n",
    "            dataX.append(np.asarray(sentence))\n",
    "            dataY.append(np.asarray(labels_sentence))\n",
    "            sentence= []\n",
    "            labels_sentence = []\n",
    "        lemmas.add(fila[0])\n",
    "        labels.add(fila[3])\n",
    "        sentence.append(fila[0])\n",
    "        labels_sentence.append(fila[3])\n",
    "    datax = np.asarray(dataX[1:])\n",
    "    datay = np.asarray(dataY[1:])\n",
    "    return datax, datay"
   ]
  },
  {
   "cell_type": "markdown",
   "metadata": {},
   "source": [
    "> Porque las palabras en la columna Lemma no están en las letras mayúsculas, ninguna palabra también esta en el plural y todos los verbos están en la forma estándar.Mirar ejemplo abajo."
   ]
  },
  {
   "cell_type": "code",
   "execution_count": 5,
   "metadata": {},
   "outputs": [
    {
     "name": "stdout",
     "output_type": "stream",
     "text": [
      "Dimensiones de dataX = 48081 \n",
      "Dimensiones de dataY = 48081\n",
      "['thousand' 'of' 'demonstr' 'have' 'march' 'through' 'london' 'to'\n",
      " 'protest' 'the' 'war' 'in' 'iraq' 'and' 'demand' 'the' 'withdraw' 'of'\n",
      " 'british' 'troop' 'from' 'that' 'countri' '.'] ['O' 'O' 'O' 'O' 'O' 'O' 'B-geo' 'O' 'O' 'O' 'O' 'O' 'B-geo' 'O' 'O' 'O'\n",
      " 'O' 'O' 'B-gpe' 'O' 'O' 'O' 'O' 'O']\n"
     ]
    }
   ],
   "source": [
    "dataX, dataY = dataCreater()\n",
    "print(\"Dimensiones de dataX =\",len(dataX),\"\\nDimensiones de dataY =\",len(dataY))\n",
    "print(dataX[0], dataY[0])"
   ]
  },
  {
   "cell_type": "markdown",
   "metadata": {},
   "source": [
    "##### Pregunta B."
   ]
  },
  {
   "cell_type": "code",
   "execution_count": 6,
   "metadata": {},
   "outputs": [],
   "source": [
    "def arrayNumber():\n",
    "    Number = []\n",
    "    for i in range(len(dataX)):\n",
    "        Number.append(len(dataX[i]))\n",
    "    return Number"
   ]
  },
  {
   "cell_type": "code",
   "execution_count": 7,
   "metadata": {},
   "outputs": [],
   "source": [
    "def wordSplit():\n",
    "    word = []\n",
    "    for i in range(len(dataX)):\n",
    "        for k in range(len(dataX[i])):\n",
    "            word.append(dataX[i][k])\n",
    "    word = list(set(word))\n",
    "    return word"
   ]
  },
  {
   "cell_type": "code",
   "execution_count": 8,
   "metadata": {},
   "outputs": [],
   "source": [
    "def wordCounter():\n",
    "    num = 0\n",
    "    for i in range(len(dataX)):\n",
    "        for k in range(len(dataX[i])):\n",
    "            num += 1\n",
    "    return num"
   ]
  },
  {
   "cell_type": "code",
   "execution_count": 9,
   "metadata": {},
   "outputs": [],
   "source": [
    "def numberWord():\n",
    "    words = newDataX\n",
    "    counts = {}\n",
    "    for word in words:\n",
    "        if word not in counts:\n",
    "            counts[word] = 0\n",
    "        counts[word] += 1\n",
    "    counts.pop(',', None)\n",
    "    counts.pop('.', None)\n",
    "    return counts"
   ]
  },
  {
   "cell_type": "code",
   "execution_count": 10,
   "metadata": {},
   "outputs": [],
   "source": [
    "def convertData():\n",
    "    newDatax = []\n",
    "    for i in range (len(dataX)):\n",
    "        for k in range(len(dataX[i])):\n",
    "            newDatax.append(dataX[i][k])     \n",
    "    newDatay = []\n",
    "    for i in range (len(dataY)):\n",
    "        for k in range(len(dataY[i])):\n",
    "            newDatay.append(dataY[i][k])\n",
    "    return newDatax, newDatay"
   ]
  },
  {
   "cell_type": "code",
   "execution_count": 11,
   "metadata": {},
   "outputs": [],
   "source": [
    "def graphMakerDest():\n",
    "    numbers = [0]*len(arrayNum)\n",
    "    for i in range(len(arrayNum)):\n",
    "        numbers[arrayNum[i]] += 1\n",
    "    plt.plot(numbers,'r-', linewidth = 1.5)\n",
    "    plt.axis([min(arrayNum)-1,max(arrayNum)+1, 0, max(numbers)+50])\n",
    "    plt.ylabel('Distribución')\n",
    "    plt.xlabel('Palabras')\n",
    "    plt.title('Cuantidad de palabras en uno Array')\n",
    "    plt.show()\n",
    "    print('Numero de palabras :',wordCo,'\\nNumero de palabras que no sin repticion :',len(wordSp))"
   ]
  },
  {
   "cell_type": "code",
   "execution_count": 12,
   "metadata": {},
   "outputs": [
    {
     "data": {
      "image/png": "[encoded data removed]",
      "text/plain": [
       "<Figure size 432x288 with 1 Axes>"
      ]
     },
     "metadata": {
      "needs_background": "light"
     },
     "output_type": "display_data"
    },
    {
     "name": "stdout",
     "output_type": "stream",
     "text": [
      "Numero de palabras : 1050786 \n",
      "Numero de palabras que no sin repticion : 20243\n"
     ]
    }
   ],
   "source": [
    "wordSp = wordSplit()\n",
    "wordCo = wordCounter()\n",
    "newDataX,newDataY = convertData()\n",
    "arrayNum = arrayNumber()\n",
    "graphMakerDest()"
   ]
  },
  {
   "cell_type": "code",
   "execution_count": 13,
   "metadata": {},
   "outputs": [],
   "source": [
    "def graphWordDes():\n",
    "    plt.plot(list(dictWord.values()),'bo', markersize=2)\n",
    "    plt.axis([0, len(wordSp), 0, max(dictWord.values())*1.07])\n",
    "    plt.ylabel('Cuantidad')\n",
    "    plt.xlabel('Palabras')\n",
    "    plt.title('Palabra que más aparecen')\n",
    "    plt.show()\n",
    "    print('Cinco palabras que más aparecen',nlargest(5, dictWord, key=dictWord.get))"
   ]
  },
  {
   "cell_type": "code",
   "execution_count": 14,
   "metadata": {},
   "outputs": [
    {
     "data": {
      "image/png": "[encoded data removed]",
      "text/plain": [
       "<Figure size 432x288 with 1 Axes>"
      ]
     },
     "metadata": {
      "needs_background": "light"
     },
     "output_type": "display_data"
    },
    {
     "name": "stdout",
     "output_type": "stream",
     "text": [
      "Cinco palabras que más aparecen ['the', 'in', 'of', 'to', 'a']\n"
     ]
    }
   ],
   "source": [
    "dictWord = numberWord()\n",
    "graphWordDes()"
   ]
  },
  {
   "cell_type": "code",
   "execution_count": 15,
   "metadata": {},
   "outputs": [],
   "source": [
    "def zipf():\n",
    "    word = list(dictWord.values())\n",
    "    total = wordCo\n",
    "    frec = []\n",
    "    for i in range(len(word)):\n",
    "        temp = word[i]/total\n",
    "        frec.append(temp*100)\n",
    "    plt.plot((frec)*100,'go', markersize=2)\n",
    "    plt.axis([0, len(word), 0, max(frec)*1.04])\n",
    "    plt.ylabel('%')\n",
    "    plt.xlabel('Palabras')\n",
    "    plt.title('Frecuencia de las palabras')\n",
    "    plt.show()\n",
    "    print('Cinco mayor % :',nlargest(5, frec))"
   ]
  },
  {
   "cell_type": "code",
   "execution_count": 16,
   "metadata": {},
   "outputs": [
    {
     "data": {
      "image/png": "[encoded data removed]",
      "text/plain": [
       "<Figure size 432x288 with 1 Axes>"
      ]
     },
     "metadata": {
      "needs_background": "light"
     },
     "output_type": "display_data"
    },
    {
     "name": "stdout",
     "output_type": "stream",
     "text": [
      "Cinco mayor % : [6.115422169690118, 2.6634348002352524, 2.5144035036629724, 2.2321386086224977, 2.1790355029473174]\n"
     ]
    }
   ],
   "source": [
    "zipf()"
   ]
  },
  {
   "cell_type": "markdown",
   "metadata": {},
   "source": [
    "> No se observa una ley de Zipf porque la ley dice que la segunda palabra tiene que tener una frecuencia de 1/2 de la primera, la terceira 1/3 asin hasta la ultima, y como pudemos mirar las frequencias no tiene ese estandar."
   ]
  },
  {
   "cell_type": "code",
   "execution_count": 17,
   "metadata": {},
   "outputs": [],
   "source": [
    "def TagCounter():\n",
    "    words = newDataY\n",
    "    counts = {}\n",
    "    for word in words:\n",
    "        if word not in counts:\n",
    "            counts[word] = 0\n",
    "        counts[word] += 1\n",
    "    return counts"
   ]
  },
  {
   "cell_type": "code",
   "execution_count": 18,
   "metadata": {},
   "outputs": [],
   "source": [
    "def tagGraph():\n",
    "    temp = tagSp\n",
    "    plt.plot(list(temp.values()),'co', markersize=8)\n",
    "    plt.axis([0, len(temp), 0, max(temp.values())*1.07])\n",
    "    plt.ylabel('Cuantidad')\n",
    "    plt.xlabel('Tags')\n",
    "    plt.show()\n",
    "    values = list(temp.values())\n",
    "    keys = list(temp.keys())\n",
    "    for i in range(len(keys)):\n",
    "        print(keys[i], '=', values[i])"
   ]
  },
  {
   "cell_type": "code",
   "execution_count": 19,
   "metadata": {},
   "outputs": [
    {
     "data": {
      "image/png": "[encoded data removed]",
      "text/plain": [
       "<Figure size 432x288 with 1 Axes>"
      ]
     },
     "metadata": {
      "needs_background": "light"
     },
     "output_type": "display_data"
    },
    {
     "name": "stdout",
     "output_type": "stream",
     "text": [
      "O = 889966\n",
      "B-per = 17011\n",
      "B-art = 434\n",
      "I-per = 17382\n",
      "B-geo = 37525\n",
      "B-org = 20184\n",
      "I-tim = 6298\n",
      "B-gpe = 16391\n",
      "I-eve = 297\n",
      "I-gpe = 229\n",
      "I-nat = 76\n",
      "B-nat = 226\n",
      "B-tim = 20193\n",
      "I-art = 280\n",
      "I-org = 16537\n",
      "I-geo = 7409\n",
      "B-eve = 348\n"
     ]
    }
   ],
   "source": [
    "tagSp = TagCounter()\n",
    "tagGraph()"
   ]
  },
  {
   "cell_type": "markdown",
   "metadata": {},
   "source": [
    "> La distrubuicion de palabra sin Tag (O) es lka mayor porque esas palabras san las pababras conectivas como: the, of, in.\n",
    "Entonces eso es un resultado esperado.\n",
    "\n",
    "<div class=\"alert alert-block alert-success\">\n",
    "    <b>Nota: </b>\n",
    "    \n",
    "geo = Entidad Geográfica\n",
    "\n",
    "org = Organización\n",
    "\n",
    "per = persona\n",
    "\n",
    "gpe = entidad geopolítica\n",
    "\n",
    "tim = indicador de tiempo\n",
    "\n",
    "arte = artefacto\n",
    "\n",
    "eve = Evento\n",
    "\n",
    "nat = Fenómeno Natural\n",
    "\n",
    "O = Nada\n",
    "</div>"
   ]
  },
  {
   "cell_type": "markdown",
   "metadata": {},
   "source": [
    "##### Pregunta C."
   ]
  },
  {
   "cell_type": "code",
   "execution_count": 20,
   "metadata": {},
   "outputs": [
    {
     "name": "stdout",
     "output_type": "stream",
     "text": [
      "17 20243\n"
     ]
    }
   ],
   "source": [
    "lemma2idx = {w: i for i, w in enumerate(wordSp)}\n",
    "lab2idx = {t: i for i, t in enumerate(tagSp)}\n",
    "numberDataX = [[lemma2idx[lemma] for lemma in sentence ] for sentence in dataX]\n",
    "numberDataY = [[lab2idx[ner] for ner in ner_tags ] for ner_tags in dataY]\n",
    "n_lemmas = len(wordSp)\n",
    "n_labels = len(tagSp)\n",
    "print(n_labels,n_lemmas)"
   ]
  },
  {
   "cell_type": "markdown",
   "metadata": {},
   "source": [
    "> Los valores estan corectos porque es la misma cuantidad de palabra y de tags en lo dataset original."
   ]
  },
  {
   "cell_type": "markdown",
   "metadata": {},
   "source": [
    "##### Pregunta D"
   ]
  },
  {
   "cell_type": "code",
   "execution_count": 21,
   "metadata": {},
   "outputs": [],
   "source": [
    "max_input_lenght = max(arrayNum)\n",
    "Xpost = sequence.pad_sequences(numberDataX, maxlen=max_input_lenght, padding='post',value=0)\n",
    "Ypost = sequence.pad_sequences(numberDataY ,maxlen=max_input_lenght, padding='post',value=0)\n",
    "Xpre = sequence.pad_sequences(numberDataX, maxlen=max_input_lenght, padding='pre',value=0)\n",
    "Ypre = sequence.pad_sequences(numberDataY ,maxlen=max_input_lenght, padding='pre',value=0)"
   ]
  },
  {
   "cell_type": "code",
   "execution_count": 22,
   "metadata": {},
   "outputs": [
    {
     "name": "stdout",
     "output_type": "stream",
     "text": [
      "Los datos de X post\n",
      " [16603   792  3305  7365 17889  6974 13740 14496 12962  9920  3423  4161\n",
      " 11806   799 13746  9920 12033   792    39 16484  4387 15702 16856 19443\n",
      "     0     0     0     0     0     0     0     0     0     0     0     0\n",
      "     0     0     0     0     0     0     0     0     0     0     0     0\n",
      "     0     0     0     0     0     0     0     0     0     0     0     0\n",
      "     0     0     0     0     0     0     0     0     0     0     0     0\n",
      "     0     0     0     0     0     0     0     0     0] \n",
      "\n",
      "\n",
      "Los datos de Y post\n",
      " [0 0 0 0 0 0 4 0 0 0 0 0 4 0 0 0 0 0 7 0 0 0 0 0 0 0 0 0 0 0 0 0 0 0 0 0 0\n",
      " 0 0 0 0 0 0 0 0 0 0 0 0 0 0 0 0 0 0 0 0 0 0 0 0 0 0 0 0 0 0 0 0 0 0 0 0 0\n",
      " 0 0 0 0 0 0 0] \n",
      "\n",
      "\n",
      "Los datos de X pre\n",
      " [    0     0     0     0     0     0     0     0     0     0     0     0\n",
      "     0     0     0     0     0     0     0     0     0     0     0     0\n",
      "     0     0     0     0     0     0     0     0     0     0     0     0\n",
      "     0     0     0     0     0     0     0     0     0     0     0     0\n",
      "     0     0     0     0     0     0     0     0     0 16603   792  3305\n",
      "  7365 17889  6974 13740 14496 12962  9920  3423  4161 11806   799 13746\n",
      "  9920 12033   792    39 16484  4387 15702 16856 19443] \n",
      "\n",
      "\n",
      "Los datos de Y pre\n",
      " [0 0 0 0 0 0 0 0 0 0 0 0 0 0 0 0 0 0 0 0 0 0 0 0 0 0 0 0 0 0 0 0 0 0 0 0 0\n",
      " 0 0 0 0 0 0 0 0 0 0 0 0 0 0 0 0 0 0 0 0 0 0 0 0 0 0 4 0 0 0 0 0 4 0 0 0 0\n",
      " 0 7 0 0 0 0 0]\n"
     ]
    }
   ],
   "source": [
    "print('Los datos de X post\\n',Xpost[0],'\\n\\n\\nLos datos de Y post\\n',Ypost[0],'\\n\\n\\nLos datos de X pre\\n',Xpre[0],'\\n\\n\\nLos datos de Y pre\\n',Ypre[0])"
   ]
  },
  {
   "cell_type": "markdown",
   "metadata": {},
   "source": [
    "> Al pricinpio dela sentencia porque asin se la red no tendrá ningum problema con su aprendizaje\n",
    "\n",
    "##### Pregunta E"
   ]
  },
  {
   "cell_type": "code",
   "execution_count": 23,
   "metadata": {},
   "outputs": [],
   "source": [
    "y = np.asarray([to_categorical(i, num_classes=n_labels) for i in Ypost])\n",
    "X_train, X_test, y_train, y_test = train_test_split(Xpost, Ypost, test_size=0.3,random_state=22)\n",
    "y_train= keras.utils.to_categorical(y_train,num_classes=17)\n",
    "y_test = keras.utils.to_categorical(y_test,num_classes=17)"
   ]
  },
  {
   "cell_type": "code",
   "execution_count": 24,
   "metadata": {},
   "outputs": [
    {
     "name": "stdout",
     "output_type": "stream",
     "text": [
      "33656 14425 33656 14425\n"
     ]
    }
   ],
   "source": [
    "print(len(X_train),len(X_test),len(y_train),len(y_test))"
   ]
  },
  {
   "cell_type": "markdown",
   "metadata": {},
   "source": [
    "> Los vectores de entrada (X_train y y_train) tienen una dimension de 33656 que es 70% del datos de input (Xpost y Ypost) y los datos X_test y y_test tienen lo tamaño que queda del datos\n",
    "\n",
    "##### Pregunta F"
   ]
  },
  {
   "cell_type": "code",
   "execution_count": 25,
   "metadata": {},
   "outputs": [],
   "source": [
    "def model(x):\n",
    "    embedding_vector = x\n",
    "    model = Sequential()\n",
    "    model.add(Embedding(input_dim=n_lemmas, output_dim=embedding_vector, input_length=max_input_lenght))\n",
    "    model.add(LSTM(units=100,return_sequences=True))\n",
    "    model.add(Dense(n_labels, activation='softmax'))\n",
    "    model.summary()\n",
    "    model.compile(loss='categorical_crossentropy', optimizer='adam')\n",
    "    model.fit(X_train, y_train, validation_data=(X_test, y_test), epochs=3, batch_size=128)\n",
    "    a = model.predict_classes(X_test,verbose=0)\n",
    "    return a"
   ]
  },
  {
   "cell_type": "code",
   "execution_count": 26,
   "metadata": {},
   "outputs": [
    {
     "name": "stdout",
     "output_type": "stream",
     "text": [
      "_________________________________________________________________\n",
      "Layer (type)                 Output Shape              Param #   \n",
      "=================================================================\n",
      "embedding_1 (Embedding)      (None, 81, 32)            647776    \n",
      "_________________________________________________________________\n",
      "lstm_1 (LSTM)                (None, 81, 100)           53200     \n",
      "_________________________________________________________________\n",
      "dense_1 (Dense)              (None, 81, 17)            1717      \n",
      "=================================================================\n",
      "Total params: 702,693\n",
      "Trainable params: 702,693\n",
      "Non-trainable params: 0\n",
      "_________________________________________________________________\n",
      "Train on 33656 samples, validate on 14425 samples\n",
      "Epoch 1/3\n",
      "33656/33656 [==============================] - 143s 4ms/step - loss: 0.4070 - val_loss: 0.1860\n",
      "Epoch 2/3\n",
      "33656/33656 [==============================] - 48s 1ms/step - loss: 0.1331 - val_loss: 0.1102\n",
      "Epoch 3/3\n",
      "33656/33656 [==============================] - 48s 1ms/step - loss: 0.0992 - val_loss: 0.0916\n"
     ]
    }
   ],
   "source": [
    "modelF = model(32)"
   ]
  },
  {
   "cell_type": "code",
   "execution_count": 27,
   "metadata": {},
   "outputs": [],
   "source": [
    "def convertY():\n",
    "    new_y_test = []\n",
    "    for i in range(len(y_test)):\n",
    "        for k in range(len(y_test[i])):\n",
    "            for j in range(len(y_test[i][k])):\n",
    "                if y_test[i][k][j] > 0:\n",
    "                    new_y_test.append(j)\n",
    "    return new_y_test"
   ]
  },
  {
   "cell_type": "code",
   "execution_count": 28,
   "metadata": {},
   "outputs": [],
   "source": [
    "new_y_test = convertY()"
   ]
  },
  {
   "cell_type": "code",
   "execution_count": 29,
   "metadata": {},
   "outputs": [],
   "source": [
    "def predict(x):\n",
    "    model = [item for sublist in x for item in sublist]\n",
    "    print(classification_metrics.type_of_target(new_y_test))\n",
    "    print(classification_metrics.type_of_target(model))\n",
    "    print(len(model),len(new_y_test))\n",
    "    print(\"F1 score on test: \", f1_score(new_y_test, model,average='macro'))"
   ]
  },
  {
   "cell_type": "code",
   "execution_count": 30,
   "metadata": {},
   "outputs": [
    {
     "name": "stdout",
     "output_type": "stream",
     "text": [
      "multiclass\n",
      "multiclass\n",
      "1168425 1168425\n",
      "F1 score on test:  0.23171510014637176\n"
     ]
    },
    {
     "name": "stderr",
     "output_type": "stream",
     "text": [
      "C:\\Users\\Christian\\Anaconda3\\envs\\tensorflow-gpu\\lib\\site-packages\\sklearn\\metrics\\classification.py:1143: UndefinedMetricWarning: F-score is ill-defined and being set to 0.0 in labels with no predicted samples.\n",
      "  'precision', 'predicted', average, warn_for)\n"
     ]
    }
   ],
   "source": [
    "predict(modelF)"
   ]
  },
  {
   "cell_type": "markdown",
   "metadata": {},
   "source": [
    "> Cuando los datos entran en la red pasan por tres 'Gates', Keep Gate, Read Gate y Write Gate.\n",
    "Write Gate es responsable de escribir los datos en la memoria.\n",
    "Read Gate lee los datos de la memoria y envía los datos de nuevo a la red recurrente\n",
    "Keep Gate es reponible por mantener o borrar datos de la memoria\n",
    "\n",
    "<img src=\"LSTM.png\" title=\"Title text\" width=\"80%\" height=\"50%\" />"
   ]
  },
  {
   "cell_type": "markdown",
   "metadata": {},
   "source": [
    "##### Pregunta G"
   ]
  },
  {
   "cell_type": "code",
   "execution_count": null,
   "metadata": {},
   "outputs": [
    {
     "name": "stdout",
     "output_type": "stream",
     "text": [
      "_________________________________________________________________\n",
      "Layer (type)                 Output Shape              Param #   \n",
      "=================================================================\n",
      "embedding_2 (Embedding)      (None, 81, 16)            323888    \n",
      "_________________________________________________________________\n",
      "lstm_2 (LSTM)                (None, 81, 100)           46800     \n",
      "_________________________________________________________________\n",
      "dense_2 (Dense)              (None, 81, 17)            1717      \n",
      "=================================================================\n",
      "Total params: 372,405\n",
      "Trainable params: 372,405\n",
      "Non-trainable params: 0\n",
      "_________________________________________________________________\n",
      "Train on 33656 samples, validate on 14425 samples\n",
      "Epoch 1/3\n",
      "20480/33656 [=================>............] - ETA: 17s - loss: 0.5377"
     ]
    }
   ],
   "source": [
    "modelG_16 = model(16)\n",
    "modelG_64 = model(64)\n",
    "modelG_128 = model(128)\n",
    "modelG_256 = model(256)"
   ]
  },
  {
   "cell_type": "code",
   "execution_count": null,
   "metadata": {},
   "outputs": [],
   "source": [
    "predict(modelG_16)\n",
    "predict(modelG_64)\n",
    "predict(modelG_128)\n",
    "predict(modelG_256)"
   ]
  },
  {
   "cell_type": "markdown",
   "metadata": {},
   "source": [
    "> Al aumentar el valor de embedding el error aumentó pero al usar un embedding menor el error cayó considerablemente. No fue algo esperado porque en la tarea 2 ejercicio 3 al almentar el embedding el resultado mejoraba, pero creo que como la cantidad de datos disponibles para entrenar en este ejercicio y el MSE es mucho menor la probable causa del hecho de menores embedding ser mejores es el Overfitting"
   ]
  },
  {
   "cell_type": "markdown",
   "metadata": {},
   "source": [
    "##### Pregunta H"
   ]
  },
  {
   "cell_type": "code",
   "execution_count": null,
   "metadata": {},
   "outputs": [],
   "source": [
    "def modelDrop(x):\n",
    "    embedding_vector = x\n",
    "    model = Sequential()\n",
    "    model.add(Embedding(input_dim=n_lemmas, output_dim=embedding_vector, input_length=max_input_lenght))  \n",
    "    model.add(LSTM(units=100,return_sequences=True))\n",
    "    model.add(Dropout(0.2))\n",
    "    model.add(Dense(n_labels, activation='softmax'))\n",
    "    model.compile(loss='categorical_crossentropy', optimizer='adam')\n",
    "    model.fit(X_train, y_train, validation_data=(X_test, y_test), epochs=3, batch_size=128)\n",
    "    a = model.predict_classes(X_test,verbose=0)\n",
    "    return a"
   ]
  },
  {
   "cell_type": "code",
   "execution_count": null,
   "metadata": {},
   "outputs": [],
   "source": [
    "modelDrop = modelDrop(16)"
   ]
  },
  {
   "cell_type": "code",
   "execution_count": null,
   "metadata": {},
   "outputs": [],
   "source": [
    "predict(modelDrop)"
   ]
  },
  {
   "cell_type": "markdown",
   "metadata": {},
   "source": [
    "> El Dropout mejora mucho el funcionamiento de la red, porque como dicho en el ejercicio anterio probablemente esta teniendo Overfitting"
   ]
  },
  {
   "cell_type": "markdown",
   "metadata": {},
   "source": [
    "##### Pregunta I"
   ]
  },
  {
   "cell_type": "code",
   "execution_count": null,
   "metadata": {},
   "outputs": [],
   "source": [
    "def modelI(x,y):\n",
    "    y = str(y)\n",
    "    merge = {'1':'sum','2':'mul','3':'ave','4':'concat'}\n",
    "    label = y\n",
    "    embedding_vector = x\n",
    "    model = Sequential()\n",
    "    model.add(Embedding(input_dim=n_lemmas, output_dim=embedding_vector, input_length=max_input_lenght))\n",
    "    layer_lstm = LSTM(units=100,return_sequences=True)\n",
    "    model.add(Bidirectional(layer_lstm,merge_mode=merge[y]))\n",
    "    model.add(Dense(n_labels, activation='softmax'))\n",
    "    model.summary()\n",
    "    model.compile(loss='categorical_crossentropy', optimizer='adam')\n",
    "    model.fit(X_train, y_train, validation_data=(X_test, y_test), epochs=3, batch_size=128)\n",
    "    a = model.predict_classes(X_test,verbose=0)\n",
    "    return a"
   ]
  },
  {
   "cell_type": "code",
   "execution_count": null,
   "metadata": {},
   "outputs": [],
   "source": [
    "modelI_1 = modelI(16,1)\n",
    "modelI_2 = modelI(16,2)\n",
    "modelI_3 = modelI(16,3)\n",
    "modelI_4 = modelI(16,4)"
   ]
  },
  {
   "cell_type": "code",
   "execution_count": null,
   "metadata": {},
   "outputs": [],
   "source": [
    "predict(modelI_1)\n",
    "predict(modelI_2)\n",
    "predict(modelI_3)\n",
    "predict(modelI_4)"
   ]
  },
  {
   "cell_type": "markdown",
   "metadata": {},
   "source": [
    "> El merge_mode de media presentó resultados mucho mejores que los otros probados y también mejora el desempeña de la red considerablemente"
   ]
  },
  {
   "cell_type": "markdown",
   "metadata": {},
   "source": [
    "##### Pregunta J"
   ]
  },
  {
   "cell_type": "code",
   "execution_count": null,
   "metadata": {},
   "outputs": [],
   "source": [
    "def modelJ(x):\n",
    "    embedding_vector = x\n",
    "    lemma2idx[\"yourspecialcharacter\"] = 0 \n",
    "    embedding_vector = 32\n",
    "    model = Sequential()\n",
    "    model.add(Embedding(input_dim=n_lemmas, output_dim=embedding_vector, input_length=max_input_lenght,mask_zero=True))\n",
    "    model.add(Dense(n_labels, activation='softmax'))\n",
    "    model.summary()\n",
    "    model.compile(loss='categorical_crossentropy', optimizer='adam')\n",
    "    model.fit(X_train, y_train, validation_data=(X_test, y_test), epochs=3, batch_size=128)\n",
    "    a = model.predict_classes(X_test,verbose=0)\n",
    "    return a"
   ]
  },
  {
   "cell_type": "code",
   "execution_count": null,
   "metadata": {},
   "outputs": [],
   "source": [
    "modelJ = modelJ(16)"
   ]
  },
  {
   "cell_type": "code",
   "execution_count": null,
   "metadata": {},
   "outputs": [],
   "source": [
    "predict(modelJ)"
   ]
  },
  {
   "cell_type": "markdown",
   "metadata": {},
   "source": [
    "> El entrenamiento ocurrió con un error mayor al comienzo, y el tiempo de entrenamiento tuvo una variación considerable, pero el error aumentó considerablemente"
   ]
  },
  {
   "cell_type": "markdown",
   "metadata": {},
   "source": [
    "##### Pregunta K"
   ]
  },
  {
   "cell_type": "code",
   "execution_count": null,
   "metadata": {},
   "outputs": [],
   "source": [
    "def modelK(x,y,w):\n",
    "    embedding_vector = x \n",
    "    y = str(y)\n",
    "    merge = {'1':'sum','2':'mul','3':'ave','4':'concat'}\n",
    "    model = Sequential()\n",
    "    model.add(Embedding(input_dim=n_lemmas, output_dim=embedding_vector, input_length=max_input_lenght))\n",
    "    layer_lstm = LSTM(units=100,return_sequences=True)\n",
    "    model.add(Bidirectional(layer_lstm,merge_mode=merge[y]))\n",
    "    model.add(Dropout(w))\n",
    "    model.add(Dense(n_labels, activation='softmax'))\n",
    "    model.summary()\n",
    "    model.compile(loss='categorical_crossentropy', optimizer='adam')\n",
    "    model.fit(X_train, y_train, validation_data=(X_test, y_test), epochs=3, batch_size=128)\n",
    "    a = model.predict_classes(X_test,verbose=0)\n",
    "    return a"
   ]
  },
  {
   "cell_type": "code",
   "execution_count": null,
   "metadata": {},
   "outputs": [],
   "source": [
    "modelK_1 = modelK(16,3,0.2)"
   ]
  },
  {
   "cell_type": "code",
   "execution_count": null,
   "metadata": {},
   "outputs": [],
   "source": [
    "predict(modelK_1)"
   ]
  },
  {
   "cell_type": "markdown",
   "metadata": {},
   "source": [
    "##### Pregunta L"
   ]
  },
  {
   "cell_type": "code",
   "execution_count": null,
   "metadata": {},
   "outputs": [],
   "source": [
    "def modelJ(x,y,w):\n",
    "    embedding_vector = x \n",
    "    y = str(y)\n",
    "    merge = {'1':'sum','2':'mul','3':'ave','4':'concat'}\n",
    "    model = Sequential()\n",
    "    model.add(Embedding(input_dim=n_lemmas, output_dim=embedding_vector, input_length=max_input_lenght))\n",
    "    layer_lstm = LSTM(units=100,return_sequences=True)\n",
    "    model.add(Bidirectional(layer_lstm,merge_mode=merge[y]))\n",
    "    model.add(Dropout(w))\n",
    "    model.add(Dense(n_labels, activation='softmax'))\n",
    "    model.summary()\n",
    "    model.compile(loss='categorical_crossentropy', optimizer='adam')\n",
    "    model.fit(X_train, y_train, validation_data=(X_test, y_test), epochs=3, batch_size=128)\n",
    "    return model"
   ]
  },
  {
   "cell_type": "code",
   "execution_count": null,
   "metadata": {},
   "outputs": [],
   "source": [
    "p = modelJ(16,3,0.2)"
   ]
  },
  {
   "cell_type": "code",
   "execution_count": null,
   "metadata": {},
   "outputs": [],
   "source": [
    "def modelJfit(x,y):\n",
    "    model = x\n",
    "    i = y\n",
    "    p = model.predict(np.array([X_test[i]]))\n",
    "    p = np.argmax(p, axis=-1)\n",
    "    print(\"{:15}: {}\".format(\"Lemma\", \"Pred\"))\n",
    "    for w,pred in zip(X_test[i],p[0]):\n",
    "        if w != 0:\n",
    "            print(\"{:15}: {}\".format(wordSp[w],list(tagSp.keys())[pred]))"
   ]
  },
  {
   "cell_type": "code",
   "execution_count": null,
   "metadata": {},
   "outputs": [],
   "source": [
    "modelJfit(p, random.randint(0, len(X_test)))"
   ]
  },
  {
   "cell_type": "markdown",
   "metadata": {},
   "source": [
    "> En el caso de que la red no esta generando las Pred con mucha precisión pero esto puede ser explicado por el hecho de Tag 'O' tener un porcentaje mucho mayor de lo que las otras etiquetas y tal vez al encontrar otro ejemplo la red demuestre otras Tags"
   ]
  },
  {
   "cell_type": "markdown",
   "metadata": {},
   "source": [
    "##### Pregunta M"
   ]
  },
  {
   "cell_type": "code",
   "execution_count": null,
   "metadata": {},
   "outputs": [],
   "source": [
    "dataset = df_ner.loc[:,[\"word\",\"lemma\"]]\n",
    "text = ' '.join(dataset[\"word\"]).lower() \n",
    "null_character = \"*\"\n",
    "chars = [null_character]+sorted(list(set(text)))\n",
    "print('total chars:', len(chars))\n",
    "char_indices = {c: i for i, c in enumerate(chars)}\n",
    "indices_char = {i: c for i, c in enumerate(chars)}\n",
    "maxlen = 40 \n",
    "step = 5 \n",
    "sentences = []\n",
    "next_chars = []\n",
    "size = int(len(text)*0.25)\n",
    "for i in range(0, size - maxlen, step):\n",
    "    sentences.append(null_character+text[i: i + maxlen])\n",
    "    next_chars.append(text[i + maxlen])\n",
    "print('nb sequences:', len(sentences))"
   ]
  },
  {
   "cell_type": "markdown",
   "metadata": {},
   "source": [
    ">Se debe usa 'word' porque los verbos tienen tiempos verbales diferentes del presente y los tiempos verbales tiene grand peso en la seguinte palabra\n",
    "\n",
    "##### Pregunta N"
   ]
  },
  {
   "cell_type": "code",
   "execution_count": null,
   "metadata": {},
   "outputs": [],
   "source": [
    "dataX = [[char_indices[char] for char in sentence ] for sentence in sentences]\n",
    "dataY = [char_indices[char] for char in next_chars]\n",
    "X_train_2, X_test_2, y_train_2, y_test_2 = train_test_split(dataX, dataY, test_size=0.3,random_state=22)\n",
    "X_test_2 = sequence.pad_sequences(dataX, maxlen=41, padding='pre',value=0)\n",
    "X_train_2 = sequence.pad_sequences(dataX, maxlen=41, padding='pre',value=0)\n",
    "y_test_2 = keras.utils.to_categorical(dataY,num_classes=72)\n",
    "y_train_2 = keras.utils.to_categorical(dataY,num_classes=72)"
   ]
  },
  {
   "cell_type": "code",
   "execution_count": null,
   "metadata": {},
   "outputs": [],
   "source": [
    "def modelCuD():\n",
    "    embedding_vector = 16\n",
    "    model = Sequential()\n",
    "    model.add(Embedding(input_dim=len(chars), output_dim=embedding_vector, input_length=maxlen+1))\n",
    "    model.add(CuDNNGRU(units=512,return_sequences=False))\n",
    "    model.add(Dropout(0.2))\n",
    "    model.add(Dense(len(chars), activation='softmax'))\n",
    "    model.compile(loss='categorical_crossentropy', optimizer='adam', metrics=['accuracy'])\n",
    "    return model"
   ]
  },
  {
   "cell_type": "code",
   "execution_count": null,
   "metadata": {},
   "outputs": [],
   "source": [
    "def modelGru():\n",
    "    embedding_vector = 16\n",
    "    model = Sequential()\n",
    "    model.add(Embedding(input_dim=len(chars), output_dim=embedding_vector, input_length=maxlen+1))\n",
    "    model.add(GRU(units=512,return_sequences=False))\n",
    "    model.add(Dropout(0.2))\n",
    "    model.add(Dense(len(chars), activation='softmax'))\n",
    "    model.compile(loss='categorical_crossentropy', optimizer='adam', metrics=['accuracy'])\n",
    "    return model "
   ]
  },
  {
   "cell_type": "markdown",
   "metadata": {},
   "source": [
    "##### Pregunta O (GRU)"
   ]
  },
  {
   "cell_type": "code",
   "execution_count": null,
   "metadata": {},
   "outputs": [],
   "source": [
    "def predict_next_char(model, sentence):   \n",
    "    x_pred = [char_indices[null_character]]+[char_indices[char] for char in sentence]\n",
    "    x_pred = sequence.pad_sequences([x_pred], maxlen=maxlen+1,padding='pre',value=char_indices[null_character])\n",
    "    preds = model.predict(x_pred, verbose=0)[0]\n",
    "    next_index = np.random.choice(len(chars), p=preds)\n",
    "    return indices_char[next_index]"
   ]
  },
  {
   "cell_type": "code",
   "execution_count": null,
   "metadata": {},
   "outputs": [],
   "source": [
    "def on_epoch_end(epoch, logs):\n",
    "    print('\\n----- Generating text after Epoch: %d' % epoch)\n",
    "    start_index = random.randint(0, size - maxlen - 1)\n",
    "    sentence = text[start_index: start_index + maxlen]\n",
    "    print('----- Generating with seed: \"' + sentence + '\"')\n",
    "    sys.stdout.write(sentence)\n",
    "    for i in range(400):\n",
    "        next_char = predict_next_char(modGru, sentence)\n",
    "        sentence = sentence[1:] + next_char\n",
    "        sys.stdout.write(next_char)\n",
    "        sys.stdout.flush()\n",
    "    return"
   ]
  },
  {
   "cell_type": "code",
   "execution_count": null,
   "metadata": {},
   "outputs": [],
   "source": [
    "modGru = modelGru()"
   ]
  },
  {
   "cell_type": "code",
   "execution_count": null,
   "metadata": {
    "scrolled": true
   },
   "outputs": [],
   "source": [
    "print_callback = LambdaCallback(on_epoch_end=on_epoch_end)\n",
    "modGru.fit(X_train_2, y_train_2,batch_size=256,epochs=25, callbacks=[print_callback])"
   ]
  },
  {
   "cell_type": "markdown",
   "metadata": {},
   "source": [
    "##### Pregunta O (CuDNNGRU)"
   ]
  },
  {
   "cell_type": "code",
   "execution_count": null,
   "metadata": {},
   "outputs": [],
   "source": [
    "def on_epoch_end(epoch, logs):\n",
    "    print('\\n----- Generating text after Epoch: %d' % epoch)\n",
    "    start_index = random.randint(0, size - maxlen - 1)\n",
    "    sentence = text[start_index: start_index + maxlen]\n",
    "    print('----- Generating with seed: \"' + sentence + '\"')\n",
    "    sys.stdout.write(sentence)\n",
    "    for i in range(400):\n",
    "        next_char = predict_next_char(modCuD, sentence)\n",
    "        sentence = sentence[1:] + next_char\n",
    "        sys.stdout.write(next_char)\n",
    "        sys.stdout.flush()\n",
    "    return"
   ]
  },
  {
   "cell_type": "code",
   "execution_count": null,
   "metadata": {},
   "outputs": [],
   "source": [
    "modCuD = modelCuD()"
   ]
  },
  {
   "cell_type": "code",
   "execution_count": null,
   "metadata": {
    "scrolled": true
   },
   "outputs": [],
   "source": [
    "print_callback = LambdaCallback(on_epoch_end=on_epoch_end)\n",
    "modCuD.fit(X_train_2, y_train_2,batch_size=256,epochs=25, callbacks=[print_callback])"
   ]
  },
  {
   "cell_type": "markdown",
   "metadata": {},
   "source": [
    "> La técnica es cambiando los valores de la función randint a los valores más cercanos de los esperados, los valores se cambian con el entrenamiento de red"
   ]
  },
  {
   "cell_type": "markdown",
   "metadata": {},
   "source": [
    "##### Pregunta P (GRU)"
   ]
  },
  {
   "cell_type": "code",
   "execution_count": null,
   "metadata": {},
   "outputs": [],
   "source": [
    "sentence = \"it is \"\n",
    "print('----- Generating with seed: \"' + sentence + '\"')\n",
    "sys.stdout.write(sentence)\n",
    "for i in range(400):\n",
    "    next_char = predict_next_char(modGru, sentence)\n",
    "    sentence = sentence[1:] + next_char \n",
    "    sys.stdout.write(next_char)\n",
    "    sys.stdout.flush()"
   ]
  },
  {
   "cell_type": "markdown",
   "metadata": {},
   "source": [
    "##### Pregunta  P (CuDNNGRU)"
   ]
  },
  {
   "cell_type": "code",
   "execution_count": null,
   "metadata": {},
   "outputs": [],
   "source": [
    "sentence = \"it is \"\n",
    "print('----- Generating with seed: \"' + sentence + '\"')\n",
    "sys.stdout.write(sentence)\n",
    "for i in range(400):\n",
    "    next_char = predict_next_char(modCuD, sentence)\n",
    "    sentence = sentence[1:] + next_char \n",
    "    sys.stdout.write(next_char)\n",
    "    sys.stdout.flush()"
   ]
  },
  {
   "cell_type": "markdown",
   "metadata": {},
   "source": [
    "> Las frases generadas harían mucho menos sentido porque el efecto de la red sería mucho más sensible, así que el hecho de haber generado una frase con un sentido intetecto dice que la red fue entrenada de manera correcta"
   ]
  },
  {
   "cell_type": "code",
   "execution_count": null,
   "metadata": {},
   "outputs": [],
   "source": []
  }
 ],
 "metadata": {
  "kernelspec": {
   "display_name": "Python 3",
   "language": "python",
   "name": "python3"
  },
  "language_info": {
   "codemirror_mode": {
    "name": "ipython",
    "version": 3
   },
   "file_extension": ".py",
   "mimetype": "text/x-python",
   "name": "python",
   "nbconvert_exporter": "python",
   "pygments_lexer": "ipython3",
   "version": "3.5.6"
  }
 },
 "nbformat": 4,
 "nbformat_minor": 2
}
