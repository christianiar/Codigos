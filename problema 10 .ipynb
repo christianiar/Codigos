{
 "cells": [
  {
   "cell_type": "code",
   "execution_count": 26,
   "metadata": {},
   "outputs": [
    {
     "data": {
      "text/plain": [
       "142913828922"
      ]
     },
     "execution_count": 26,
     "metadata": {},
     "output_type": "execute_result"
    }
   ],
   "source": [
    "def prime_sum(n):\n",
    "    if n < 2: \n",
    "        return 0\n",
    "    if n == 2: \n",
    "        return 2\n",
    "    if n % 2 == 0: \n",
    "        n += 1\n",
    "    primes = [True] * n\n",
    "    primes[0],primes[1] = [None] * 2\n",
    "    sum = 0\n",
    "    for ind,val in enumerate(primes):\n",
    "        if val is True and ind > n ** 0.5 + 1:\n",
    "            sum += ind\n",
    "        elif val is True:\n",
    "            primes[ind*2::ind] = [False] * (((n - 1)//ind) - 1)\n",
    "            sum += ind\n",
    "    return sum\n",
    " \n",
    "sum = prime_sum(2000000)\n",
    "sum"
   ]
  },
  {
   "cell_type": "code",
   "execution_count": null,
   "metadata": {},
   "outputs": [],
   "source": []
  }
 ],
 "metadata": {
  "kernelspec": {
   "display_name": "Python 3",
   "language": "python",
   "name": "python3"
  },
  "language_info": {
   "codemirror_mode": {
    "name": "ipython",
    "version": 3
   },
   "file_extension": ".py",
   "mimetype": "text/x-python",
   "name": "python",
   "nbconvert_exporter": "python",
   "pygments_lexer": "ipython3",
   "version": "3.5.6"
  }
 },
 "nbformat": 4,
 "nbformat_minor": 2
}
