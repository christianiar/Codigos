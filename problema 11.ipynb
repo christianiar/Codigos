{
 "cells": [
  {
   "cell_type": "code",
   "execution_count": 2,
   "metadata": {},
   "outputs": [],
   "source": [
    "L = []\n",
    "L.append(\"08 02 22 97 38 15 00 40 00 75 04 05 07 78 52 12 50 77 91 08\")\n",
    "L.append(\"49 49 99 40 17 81 18 57 60 87 17 40 98 43 69 48 04 56 62 00\")\n",
    "L.append(\"81 49 31 73 55 79 14 29 93 71 40 67 53 88 30 03 49 13 36 65\")\n",
    "L.append(\"52 70 95 23 04 60 11 42 69 24 68 56 01 32 56 71 37 02 36 91\")\n",
    "L.append(\"22 31 16 71 51 67 63 89 41 92 36 54 22 40 40 28 66 33 13 80\")\n",
    "L.append(\"24 47 32 60 99 03 45 02 44 75 33 53 78 36 84 20 35 17 12 50\")\n",
    "L.append(\"32 98 81 28 64 23 67 10 26 38 40 67 59 54 70 66 18 38 64 70\")\n",
    "L.append(\"67 26 20 68 02 62 12 20 95 63 94 39 63 08 40 91 66 49 94 21\")\n",
    "L.append(\"24 55 58 05 66 73 99 26 97 17 78 78 96 83 14 88 34 89 63 72\")\n",
    "L.append(\"21 36 23 09 75 00 76 44 20 45 35 14 00 61 33 97 34 31 33 95\")\n",
    "L.append(\"78 17 53 28 22 75 31 67 15 94 03 80 04 62 16 14 09 53 56 92\")\n",
    "L.append(\"16 39 05 42 96 35 31 47 55 58 88 24 00 17 54 24 36 29 85 57\")\n",
    "L.append(\"86 56 00 48 35 71 89 07 05 44 44 37 44 60 21 58 51 54 17 58\")\n",
    "L.append(\"19 80 81 68 05 94 47 69 28 73 92 13 86 52 17 77 04 89 55 40\")\n",
    "L.append(\"04 52 08 83 97 35 99 16 07 97 57 32 16 26 26 79 33 27 98 66\")\n",
    "L.append(\"88 36 68 87 57 62 20 72 03 46 33 67 46 55 12 32 63 93 53 69\")\n",
    "L.append(\"04 42 16 73 38 25 39 11 24 94 72 18 08 46 29 32 40 62 76 36\")\n",
    "L.append(\"20 69 36 41 72 30 23 88 34 62 99 69 82 67 59 85 74 04 36 16\")\n",
    "L.append(\"20 73 35 29 78 31 90 01 74 31 49 71 48 86 81 16 23 57 05 54\")\n",
    "L.append(\"01 70 54 71 83 51 54 69 16 92 33 48 61 43 52 01 89 19 67 48\")"
   ]
  },
  {
   "cell_type": "code",
   "execution_count": 3,
   "metadata": {},
   "outputs": [],
   "source": [
    "size = 20\n",
    "M = [i.split() for i in L]\n",
    "M = [[int(j) for j in i] for i in M]"
   ]
  },
  {
   "cell_type": "code",
   "execution_count": 9,
   "metadata": {},
   "outputs": [],
   "source": [
    "def diagonal():\n",
    "    maxval = 0\n",
    "    for x in range(size):\n",
    "        for y in range(size):\n",
    "            if x+3<20 and y+3<20:\n",
    "                temp1 = M[x][y]*M[x+1][y+1]*M[x+2][y+2]*M[x+3][y+3]\n",
    "                if temp1>maxval:\n",
    "                    maxval = temp1\n",
    "            if x+3<20 and y-3>0:\n",
    "                temp2 = M[x][y]*M[x+1][y-1]*M[x+2][y-2]*M[x+3][y-3]\n",
    "                if temp2>maxval:\n",
    "                    maxval = temp2\n",
    "    return maxval"
   ]
  },
  {
   "cell_type": "code",
   "execution_count": 10,
   "metadata": {},
   "outputs": [],
   "source": [
    "def lado():\n",
    "    maxval = 0\n",
    "    for x in range(size):\n",
    "        for y in range(size):\n",
    "            if x<20 and y+3<20:\n",
    "                temp1 = M[x][y]*M[x][y+1]*M[x][y+2]*M[x][y+3]\n",
    "                if temp1>maxval:\n",
    "                    maxval = temp1\n",
    "    return maxval"
   ]
  },
  {
   "cell_type": "code",
   "execution_count": 11,
   "metadata": {},
   "outputs": [],
   "source": [
    "def cima():\n",
    "    maxval = 0\n",
    "    for x in range(size):\n",
    "        for y in range(size):\n",
    "            if x+3<20 and y<20:\n",
    "                temp1 = M[x][y]*M[x+1][y]*M[x+2][y]*M[x+3][y]\n",
    "                if temp1>maxval:\n",
    "                    maxval = temp1\n",
    "    return maxval"
   ]
  },
  {
   "cell_type": "code",
   "execution_count": 12,
   "metadata": {},
   "outputs": [
    {
     "name": "stdout",
     "output_type": "stream",
     "text": [
      "70600674 48477312 51267216\n"
     ]
    }
   ],
   "source": [
    "print(diagonal(),lado(),cima())"
   ]
  },
  {
   "cell_type": "code",
   "execution_count": null,
   "metadata": {},
   "outputs": [],
   "source": []
  }
 ],
 "metadata": {
  "kernelspec": {
   "display_name": "Python 3",
   "language": "python",
   "name": "python3"
  },
  "language_info": {
   "codemirror_mode": {
    "name": "ipython",
    "version": 3
   },
   "file_extension": ".py",
   "mimetype": "text/x-python",
   "name": "python",
   "nbconvert_exporter": "python",
   "pygments_lexer": "ipython3",
   "version": "3.5.6"
  }
 },
 "nbformat": 4,
 "nbformat_minor": 2
}
