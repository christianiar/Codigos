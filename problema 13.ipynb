{
 "cells": [
  {
   "cell_type": "code",
   "execution_count": 2,
   "metadata": {},
   "outputs": [],
   "source": [
    "j = open(\"problema 13.txt\",'r')\n",
    "lines = []\n",
    "for line in j:\n",
    "    c = [x for x in str(line)]\n",
    "    lines.append(c)\n",
    "for i in range(len(lines)-1):\n",
    "    lines[i].remove('\\n')\n",
    "    lines[i] = [int(numeric_string) for numeric_string in lines[i]]\n",
    "    \n",
    "    numeros = []\n",
    "for i in range(len(lines)):\n",
    "    temp = 0\n",
    "    for k in range(len(lines[0])):\n",
    "        l = pow(10,(len(lines[i]))-(k+1))\n",
    "        temp = temp+(int(lines[i][k])*l)\n",
    "    numeros.append(temp)"
   ]
  },
  {
   "cell_type": "code",
   "execution_count": 3,
   "metadata": {},
   "outputs": [
    {
     "name": "stdout",
     "output_type": "stream",
     "text": [
      "5537376230390876637302048746832985971773659831892672\n"
     ]
    }
   ],
   "source": [
    "soma = 0\n",
    "for i in range(len(numeros)):\n",
    "    soma += numeros[i]\n",
    "print(soma)"
   ]
  },
  {
   "cell_type": "code",
   "execution_count": null,
   "metadata": {},
   "outputs": [],
   "source": []
  }
 ],
 "metadata": {
  "kernelspec": {
   "display_name": "Python 3",
   "language": "python",
   "name": "python3"
  },
  "language_info": {
   "codemirror_mode": {
    "name": "ipython",
    "version": 3
   },
   "file_extension": ".py",
   "mimetype": "text/x-python",
   "name": "python",
   "nbconvert_exporter": "python",
   "pygments_lexer": "ipython3",
   "version": "3.5.6"
  }
 },
 "nbformat": 4,
 "nbformat_minor": 2
}
