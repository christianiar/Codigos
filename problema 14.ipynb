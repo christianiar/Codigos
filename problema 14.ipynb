{
 "cells": [
  {
   "cell_type": "code",
   "execution_count": 3,
   "metadata": {},
   "outputs": [],
   "source": [
    "def conta(n):\n",
    "    if n%2 == 0:\n",
    "         n = n/2\n",
    "    else:\n",
    "         n = (3*n)+1 \n",
    "    return n"
   ]
  },
  {
   "cell_type": "code",
   "execution_count": 28,
   "metadata": {},
   "outputs": [
    {
     "name": "stdout",
     "output_type": "stream",
     "text": [
      "837799 524\n"
     ]
    }
   ],
   "source": [
    "count = 0\n",
    "big = 0\n",
    "i = 1\n",
    "while i < 1000000:\n",
    "    temp_count = 0\n",
    "    j = i\n",
    "    while j!=1:\n",
    "        j = conta(j)\n",
    "        temp_count += 1\n",
    "    if temp_count>count:\n",
    "        count = temp_count\n",
    "        big = i\n",
    "    i+=1\n",
    "print(big, count)"
   ]
  },
  {
   "cell_type": "code",
   "execution_count": null,
   "metadata": {},
   "outputs": [],
   "source": []
  }
 ],
 "metadata": {
  "kernelspec": {
   "display_name": "Python 3",
   "language": "python",
   "name": "python3"
  },
  "language_info": {
   "codemirror_mode": {
    "name": "ipython",
    "version": 3
   },
   "file_extension": ".py",
   "mimetype": "text/x-python",
   "name": "python",
   "nbconvert_exporter": "python",
   "pygments_lexer": "ipython3",
   "version": "3.5.6"
  }
 },
 "nbformat": 4,
 "nbformat_minor": 2
}
