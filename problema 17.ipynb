{
 "cells": [
  {
   "cell_type": "code",
   "execution_count": null,
   "metadata": {},
   "outputs": [],
   "source": [
    "def dataset(x):\n",
    "    return {\n",
    "        '0':0,\n",
    "        '1':3,\n",
    "        '2':3,\n",
    "        '3':5,\n",
    "        '4':4,\n",
    "        '5':4,\n",
    "        '6':3,\n",
    "        '7':5,\n",
    "        '8':5,\n",
    "        '9':4,\n",
    "        '10':3,\n",
    "        '11':6,\n",
    "        '12':6,\n",
    "        '13':8,\n",
    "        '14':8,\n",
    "        '15':7,\n",
    "        '16':7,\n",
    "        '17':9,\n",
    "        '18':8,\n",
    "        '19':8,\n",
    "        '20':6,\n",
    "        '30':6,\n",
    "        '40':5,\n",
    "        '50':5,\n",
    "        '60':5,\n",
    "        '70':7,\n",
    "        '80':6,\n",
    "        '90':6,\n",
    "        '100':7,\n",
    "        '1000':11   \n",
    "    }[x]"
   ]
  },
  {
   "cell_type": "code",
   "execution_count": 1,
   "metadata": {},
   "outputs": [],
   "source": [
    "#feito a mão"
   ]
  },
  {
   "cell_type": "code",
   "execution_count": null,
   "metadata": {},
   "outputs": [],
   "source": []
  }
 ],
 "metadata": {
  "kernelspec": {
   "display_name": "Python 3",
   "language": "python",
   "name": "python3"
  },
  "language_info": {
   "codemirror_mode": {
    "name": "ipython",
    "version": 3
   },
   "file_extension": ".py",
   "mimetype": "text/x-python",
   "name": "python",
   "nbconvert_exporter": "python",
   "pygments_lexer": "ipython3",
   "version": "3.5.6"
  }
 },
 "nbformat": 4,
 "nbformat_minor": 2
}
