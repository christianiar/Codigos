{
 "cells": [
  {
   "cell_type": "code",
   "execution_count": 35,
   "metadata": {},
   "outputs": [],
   "source": [
    "l = [1,2]\n",
    "def fic():\n",
    "    for i in range(4000000):\n",
    "        s = l[i]+l[i+1]\n",
    "        if s>4000000:\n",
    "            break\n",
    "        l.append(s)"
   ]
  },
  {
   "cell_type": "code",
   "execution_count": 36,
   "metadata": {},
   "outputs": [
    {
     "name": "stdout",
     "output_type": "stream",
     "text": [
      "0\n",
      "1\n",
      "2\n",
      "2\n",
      "3\n",
      "4\n",
      "8\n",
      "5\n",
      "6\n",
      "7\n",
      "34\n",
      "8\n",
      "9\n",
      "10\n",
      "144\n",
      "11\n",
      "12\n",
      "13\n",
      "610\n",
      "14\n",
      "15\n",
      "16\n",
      "2584\n",
      "17\n",
      "18\n",
      "19\n",
      "10946\n",
      "20\n",
      "21\n",
      "22\n",
      "46368\n",
      "23\n",
      "24\n",
      "25\n",
      "196418\n",
      "26\n",
      "27\n",
      "28\n",
      "832040\n",
      "29\n",
      "30\n",
      "31\n",
      "3524578\n"
     ]
    }
   ],
   "source": [
    "fic()\n",
    "s = 0\n",
    "for i in range(len(l)):\n",
    "    print(i)\n",
    "    if l[i]%2 == 0:\n",
    "        print(l[i])\n",
    "        s = s+l[i]"
   ]
  },
  {
   "cell_type": "code",
   "execution_count": 37,
   "metadata": {},
   "outputs": [
    {
     "data": {
      "text/plain": [
       "4613732"
      ]
     },
     "execution_count": 37,
     "metadata": {},
     "output_type": "execute_result"
    }
   ],
   "source": [
    "s"
   ]
  },
  {
   "cell_type": "code",
   "execution_count": 34,
   "metadata": {},
   "outputs": [
    {
     "data": {
      "text/plain": [
       "212"
      ]
     },
     "execution_count": 34,
     "metadata": {},
     "output_type": "execute_result"
    }
   ],
   "source": [
    "len(l)"
   ]
  },
  {
   "cell_type": "code",
   "execution_count": null,
   "metadata": {},
   "outputs": [],
   "source": []
  }
 ],
 "metadata": {
  "kernelspec": {
   "display_name": "Python 3",
   "language": "python",
   "name": "python3"
  },
  "language_info": {
   "codemirror_mode": {
    "name": "ipython",
    "version": 3
   },
   "file_extension": ".py",
   "mimetype": "text/x-python",
   "name": "python",
   "nbconvert_exporter": "python",
   "pygments_lexer": "ipython3",
   "version": "3.5.6"
  }
 },
 "nbformat": 4,
 "nbformat_minor": 2
}
