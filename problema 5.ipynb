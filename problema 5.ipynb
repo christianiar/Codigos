{
 "cells": [
  {
   "cell_type": "code",
   "execution_count": 9,
   "metadata": {},
   "outputs": [
    {
     "name": "stdout",
     "output_type": "stream",
     "text": [
      "232792560\n"
     ]
    }
   ],
   "source": [
    "m = 20\n",
    "n_in = 2500\n",
    "while n_in>1:\n",
    "    k = 1\n",
    "    while k<=m:\n",
    "        if (n_in%k)==0:\n",
    "            k+=1\n",
    "            if k==m:\n",
    "                print(n_in)\n",
    "                n_in=0\n",
    "        else:\n",
    "            break\n",
    "    n_in+=1"
   ]
  },
  {
   "cell_type": "code",
   "execution_count": null,
   "metadata": {},
   "outputs": [],
   "source": []
  }
 ],
 "metadata": {
  "kernelspec": {
   "display_name": "Python 3",
   "language": "python",
   "name": "python3"
  },
  "language_info": {
   "codemirror_mode": {
    "name": "ipython",
    "version": 3
   },
   "file_extension": ".py",
   "mimetype": "text/x-python",
   "name": "python",
   "nbconvert_exporter": "python",
   "pygments_lexer": "ipython3",
   "version": "3.5.6"
  }
 },
 "nbformat": 4,
 "nbformat_minor": 2
}
