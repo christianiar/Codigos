{
 "cells": [
  {
   "cell_type": "code",
   "execution_count": 26,
   "metadata": {},
   "outputs": [],
   "source": [
    "n = 7\n",
    "primax = 10001\n",
    "primos = [2,3,5]\n",
    "i = 4\n",
    "while i<=primax:\n",
    "    #print(n,i)\n",
    "    if n%2==0 or n%5==0:\n",
    "        n+=1\n",
    "    else:\n",
    "        for t in range(len(primos)):            \n",
    "            if n%primos[t] == 0:\n",
    "                n+=1\n",
    "                break\n",
    "            else:\n",
    "                if t==(len(primos)-1):\n",
    "                    primos.append(n)\n",
    "                    i+=1\n",
    "                    n+=1"
   ]
  },
  {
   "cell_type": "code",
   "execution_count": 27,
   "metadata": {},
   "outputs": [
    {
     "data": {
      "text/plain": [
       "104743"
      ]
     },
     "execution_count": 27,
     "metadata": {},
     "output_type": "execute_result"
    }
   ],
   "source": [
    "primos[-1]"
   ]
  },
  {
   "cell_type": "code",
   "execution_count": null,
   "metadata": {},
   "outputs": [],
   "source": []
  }
 ],
 "metadata": {
  "kernelspec": {
   "display_name": "Python 3",
   "language": "python",
   "name": "python3"
  },
  "language_info": {
   "codemirror_mode": {
    "name": "ipython",
    "version": 3
   },
   "file_extension": ".py",
   "mimetype": "text/x-python",
   "name": "python",
   "nbconvert_exporter": "python",
   "pygments_lexer": "ipython3",
   "version": "3.5.6"
  }
 },
 "nbformat": 4,
 "nbformat_minor": 2
}
