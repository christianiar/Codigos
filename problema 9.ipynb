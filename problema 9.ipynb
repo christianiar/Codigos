{
 "cells": [
  {
   "cell_type": "code",
   "execution_count": 29,
   "metadata": {},
   "outputs": [],
   "source": [
    "def pit(a,b):\n",
    "    c = pow(((a*a)+(b*b)),1/2)\n",
    "    g = 0\n",
    "    if c%1==0 and (a+b+c)==1000:\n",
    "        g = a*b*c\n",
    "    return g"
   ]
  },
  {
   "cell_type": "code",
   "execution_count": 30,
   "metadata": {},
   "outputs": [
    {
     "name": "stdout",
     "output_type": "stream",
     "text": [
      "31875000.0\n",
      "31875000.0\n"
     ]
    }
   ],
   "source": [
    "for i in range(1000):\n",
    "    for ii in range(1000):\n",
    "        g = pit(i,ii)\n",
    "        if g!=0:\n",
    "            print(g)"
   ]
  },
  {
   "cell_type": "code",
   "execution_count": null,
   "metadata": {},
   "outputs": [],
   "source": []
  }
 ],
 "metadata": {
  "kernelspec": {
   "display_name": "Python 3",
   "language": "python",
   "name": "python3"
  },
  "language_info": {
   "codemirror_mode": {
    "name": "ipython",
    "version": 3
   },
   "file_extension": ".py",
   "mimetype": "text/x-python",
   "name": "python",
   "nbconvert_exporter": "python",
   "pygments_lexer": "ipython3",
   "version": "3.5.6"
  }
 },
 "nbformat": 4,
 "nbformat_minor": 2
}
